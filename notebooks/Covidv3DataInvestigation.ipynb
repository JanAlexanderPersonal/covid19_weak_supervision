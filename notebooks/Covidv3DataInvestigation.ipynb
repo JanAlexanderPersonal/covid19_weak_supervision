{
 "cells": [
  {
   "cell_type": "markdown",
   "id": "1c3611cd",
   "metadata": {},
   "source": [
    "## Investigation of Covid 19 - v2 dataset"
   ]
  },
  {
   "cell_type": "code",
   "execution_count": 32,
   "id": "39085ffc",
   "metadata": {},
   "outputs": [],
   "source": [
    "import os\n",
    "import numpy as np\n",
    "import matplotlib.pyplot as plt\n",
    "import SimpleITK as sitk\n",
    "from PIL import Image"
   ]
  },
  {
   "cell_type": "code",
   "execution_count": 33,
   "id": "bb51868e",
   "metadata": {},
   "outputs": [],
   "source": [
    "DATA_FOLDER = r'/media/jan/DataStorage/ProjectData/covid/'\n",
    "LUNG_FOLDER = os.path.join(DATA_FOLDER, 'LungMasks')\n",
    "TGT_FOLDER = os.path.join(DATA_FOLDER, 'InfectionMasks')"
   ]
  },
  {
   "cell_type": "code",
   "execution_count": 34,
   "id": "c6697c4d",
   "metadata": {},
   "outputs": [],
   "source": [
    "lung_file_name = os.path.join(LUNG_FOLDER, '3_z150.png')\n",
    "infection_file_name = os.path.join(TGT_FOLDER, '3_z150.png')"
   ]
  },
  {
   "cell_type": "code",
   "execution_count": 35,
   "id": "ba844744",
   "metadata": {},
   "outputs": [],
   "source": [
    "lung = Image.open(lung_file_name)\n",
    "tgt = Image.open(infection_file_name)"
   ]
  },
  {
   "cell_type": "code",
   "execution_count": 36,
   "id": "0b5727cd",
   "metadata": {},
   "outputs": [
    {
     "output_type": "stream",
     "name": "stdout",
     "text": [
      "unique values in lung slice : [  0 255]\n"
     ]
    },
    {
     "output_type": "execute_result",
     "data": {
      "text/plain": [
       "<PIL.PngImagePlugin.PngImageFile image mode=L size=630x630 at 0x7F7192605850>"
      ],
      "image/png": "[encoded data removed]"
     },
     "metadata": {},
     "execution_count": 36
    }
   ],
   "source": [
    "print(f'unique values in lung slice : {np.unique(np.array(lung))}')\n",
    "\n",
    "lung"
   ]
  },
  {
   "cell_type": "code",
   "execution_count": 37,
   "id": "5dedf125",
   "metadata": {},
   "outputs": [
    {
     "output_type": "stream",
     "name": "stdout",
     "text": [
      "unique values in tgt : (array([  0, 127, 255], dtype=uint8), array([392612,   1150,   3138]))\n"
     ]
    },
    {
     "output_type": "execute_result",
     "data": {
      "text/plain": [
       "<PIL.PngImagePlugin.PngImageFile image mode=L size=630x630 at 0x7F71926AE700>"
      ],
      "image/png": "[encoded data removed]"
     },
     "metadata": {},
     "execution_count": 37
    }
   ],
   "source": [
    "print(f'unique values in tgt : {np.unique(np.array(tgt), return_counts = True)}')\n",
    "tgt"
   ]
  },
  {
   "cell_type": "code",
   "execution_count": 38,
   "id": "842123d0",
   "metadata": {},
   "outputs": [
    {
     "output_type": "execute_result",
     "data": {
      "text/plain": [
       "<matplotlib.image.AxesImage at 0x7f719275acd0>"
      ]
     },
     "metadata": {},
     "execution_count": 38
    },
    {
     "output_type": "display_data",
     "data": {
      "text/plain": "<Figure size 432x288 with 1 Axes>",
      "image/svg+xml": "<?xml version=\"1.0\" encoding=\"utf-8\" standalone=\"no\"?>\n<!DOCTYPE svg PUBLIC \"-//W3C//DTD SVG 1.1//EN\"\n  \"http://www.w3.org/Graphics/SVG/1.1/DTD/svg11.dtd\">\n<!-- Created with matplotlib (https://matplotlib.org/) -->\n<svg height=\"252.144772pt\" version=\"1.1\" viewBox=\"0 0 257.9275 252.144772\" width=\"257.9275pt\" xmlns=\"http://www.w3.org/2000/svg\" xmlns:xlink=\"http://www.w3.org/1999/xlink\">\n <metadata>\n  <rdf:RDF xmlns:cc=\"http://creativecommons.org/ns#\" xmlns:dc=\"http://purl.org/dc/elements/1.1/\" xmlns:rdf=\"http://www.w3.org/1999/02/22-rdf-syntax-ns#\">\n   <cc:Work>\n    <dc:type rdf:resource=\"http://purl.org/dc/dcmitype/StillImage\"/>\n    <dc:date>2021-04-08T21:31:54.148049</dc:date>\n    <dc:format>image/svg+xml</dc:format>\n    <dc:creator>\n     <cc:Agent>\n      <dc:title>Matplotlib v3.3.4, https://matplotlib.org/</dc:title>\n     </cc:Agent>\n    </dc:creator>\n   </cc:Work>\n  </rdf:RDF>\n </metadata>\n <defs>\n  <style type=\"text/css\">*{stroke-linecap:butt;stroke-linejoin:round;}</style>\n </defs>\n <g id=\"figure_1\">\n  <g id=\"patch_1\">\n   <path d=\"M 0 252.144772 \nL 257.9275 252.144772 \nL 257.9275 0 \nL 0 0 \nz\n\" style=\"fill:none;\"/>\n  </g>\n  <g id=\"axes_1\">\n   <g id=\"patch_2\">\n    <path d=\"M 33.2875 228.266647 \nL 250.7275 228.266647 \nL 250.7275 10.826647 \nL 33.2875 10.826647 \nz\n\" style=\"fill:#ffffff;\"/>\n   </g>\n   <g clip-path=\"url(#peb2ad72253)\">\n    <image height=\"218\" id=\"image3704f38535\" transform=\"scale(1 -1)translate(0 -218)\" width=\"218\" x=\"33.2875\" xlink:href=\"data:image/png;base64,\niVBORw0KGgoAAAANSUhEUgAAANoAAADaCAYAAADAHVzbAAAIcklEQVR4nO3de2yVdx3H8c9zLi20Bca4lMu4Ru6XARsIY2MoSCBucTObXJcZN8imMaIYnX8oEjGIxsE0DlmyDckg2z+G4Vg2vDBkoOMWLnKns+BwXCoFSstp6TmPf2CqDS0UPefztPh+/UOe09/TfEn6znPO6e88DSYHj4UCkFOxqAcA/h8QGmBAaIABoQEGhAYYEBpgQGiAAaEBBoQGGBAaYEBogAGhAQaEBhgQGmBAaIABoQEGhAYYEBpgQGiAAaEBBoQGGBAaYEBogAGhAQaEBhgQGmBAaIABoQEGhAYYEBpgQGiAAaEBBoQGGBAaYEBogAGhAQaEBhgQGmBAaIABoQEGhAYYEBpgQGiAAaEBBoQGGBAaYEBogAGhAQaEBhgQGmBAaIABoQEGhAYYEBpgQGiAAaEBBoQGGBAaYEBogAGhAQaEBhgQGmBAaIABoQEGhAYYEBpgQGiAAaEBBoQGGBAaYEBogAGhAQaEBhgQGmBAaIABoQEGhAYYEBpgQGiAAaEBBoQGGBAaYEBogAGhAQaEBhgQGmBAaIABoQEGhAYYEBpgQGiAAaEBBoQGGBAaYEBogAGhAQaEBhgQGmBAaIABoQEGhAYYEBpgQGiAAaEBBoQGGBAaYEBogAGhAQaEBhgQGmBAaIABoQEGhAYYEBpgQGiAAaEBBoQGGBAaYEBogAGhAQaEBhgQGjyCQPEOdypWWBj1JJEgNORckMxT6eKx+uyWYxqz7YKOLxurcPwIKQiiHs0mmBw8FkY9BG5vF2eP1btLl6ldrHXdYwdqruih331VA79+RJmKigin8+CKhpyr7B6rF5kkDclrraPTVqrkO0MjmsqL0JBT8eLOevDxXQ1+LRnE9bmpf1a8fXvzVH6EhpypnXSPur5ZpRe6/anRNYuLt+vyhH7GqaJBaMiJIJmn7ouP6eWe7yseNP5jlh8k9fG4uHGyaBAaciLWq7ue7Ly1SWunTd6peNu2OZ4oWoSGnEiXlGru20/rbLpSFzNXbrj2R1226szMIabJosHb+8i6IJGo+zczvJ/ShUmNX/6BFnU60Og5qy911OsPjFT63DnXmFZc0ZBdY4frzs1t1HlLgc7NGSntPKj4pt1a/9KDqg6vNnraxIJS1QzpYRzUi9CQNbGCAg36xUGt7bNJq3v9Ub/53k905iuflCR1XXtIT534TKPn9kwU6dyIVq5R7QgNWRMkEhpd9Ne6466JIn1h7u8Vv6Od0uXlOv/FDlp4rvHXYjXjb98dIoSGrMlUVen7ux6u9xRxXvvdqhrXX5KUPlqiNQdGX3fe8vLeunv7TBWv4ooG3FRYW6v+C05r7slJdY91jBcq1eE/fk92qv5WrHeq8vXurHHq8sgh5W/YIQWBrk65V+e/NE7hfXe7Rs85QkNW/WNSb73YY2PdcXm6Sq3Op+uO+79SpnWVRZKkCfsf1ZL5Tyqz73Dd12NFRRq+ZI92LF6hb6x+XamHxviGzyHe3kfWxAoL1X5jntb22VT32LAPZumumR8qk0pdeyAIpNFD9feJbdTjzbNKHzle73sEiYQq3uqprcN/LUnaWJXU8zOmK9z5F9v/Ixe4oiFrUg8M1opeb9cdb6++qrsW6d+RSVIYStv3q9uPt10XmSRVPHqPXhu0uu54SsFVHX2iKKdzOxAasqbV6Uodv3rt9Vg6zGj6b7+szN5DTT4/PXGUlixdqT7J+mENHH5SQX5+Vmd1IzRkTWbvIT31/Hx9+8wIjdwxW4O+e+LaFayJLnwiXxMaeOOxR2G5gnjL3nhMaMieMFTxz7dp37hW6vZ4idJnzmbl236q3eG6bV0tVcueHs1Svddkt6C2oOF7iJyubafwFq6MzRGhIRJBfr7Kp49STZtAXTeVKTxxSkNnHGxw7Yp109S7ovEPj7YEhAa7IJmnYy8P1t6Jy1QUa6WF84Zo83P36dkuK9XQq5naXinF+/VV+tiH/mGzhNdosAuv1ihTlVBR7No7H4s6HVDb5/6m9RdHNbi+5NOv6vRPkwqSec4xs4rQEIlWp5JKh5m64/X93tHS4j2Nrv/lsNcU69vTMFluEBoi0fdXH2l26WSVpStVlam56fox+Umdv7ejYbLcIDREorb0pC5Oqdaczz+j+3/4NZWlK6MeKacIDZHJVFYq3LFfXd4r0/up4puf0ILvIE5oiFSQzNOhb7XVI4WXb7o2Medsi/0jGYSGSNXeP1SbJ73QpLUbhq5RxdSWeQtxfo+GaASBSheP1YszXlLPRNN257eLtVbqjpha4jWN0BCJ2LABemPWco24hV35u6pr1HHPJbXEzVg8dUQ0gkDJIHPzdf+SDjN64pX5Cnc3vE2ruSM0RCKz77Aefmu+ytNVTVq/JZVQn1Unb+ljN80JoSEaYagB39yryYsXNCm2n52apMy5MsNguUFoiEwmlVKnVbs1asP8G97FWJL2f9T9v/74TXNAaIhUWF2tgfP3afAf5t1wXeJIgWmi3CA0RC6TSmnADy5pwccN796/nEmpeMeNr3jNHaGhWUgfLdGBpwfpvSvX/0i+enGACrYdjWCq7CE0NBvhnoN6dvUzWldZpK2pjLamMlpT0UFvLJyq9IWLUY/3P+EGqmhegkDxzp0UxK5dA8La9G3xN9PYGYLmJQyzdves5oSnjoABoQEGhAYYEBpgQGiAAaEBBoQGGBAaYEBogAGhAQaEBhgQGmBAaIABoQEGhAYYEBpgQGiAAaEBBoQGGBAaYEBogAGhAQaEBhgQGmBAaIABoQEGhAYYEBpgQGiAAaEBBoQGGBAaYEBogAGhAQaEBhgQGmBAaIABoQEGhAYYEBpgQGiAAaEBBoQGGBAaYEBogAGhAQaEBhgQGmBAaIABoQEGhAYYEBpgQGiAwT8BoMPPcMT2QBYAAAAASUVORK5CYII=\" y=\"-10.266647\"/>\n   </g>\n   <g id=\"matplotlib.axis_1\">\n    <g id=\"xtick_1\">\n     <g id=\"line2d_1\">\n      <defs>\n       <path d=\"M 0 0 \nL 0 3.5 \n\" id=\"m533ab9de7c\" style=\"stroke:#000000;stroke-width:0.8;\"/>\n      </defs>\n      <g>\n       <use style=\"stroke:#000000;stroke-width:0.8;\" x=\"33.460071\" xlink:href=\"#m533ab9de7c\" y=\"228.266647\"/>\n      </g>\n     </g>\n     <g id=\"text_1\">\n      <!-- 0 -->\n      <g transform=\"translate(30.278821 242.865085)scale(0.1 -0.1)\">\n       <defs>\n        <path d=\"M 31.78125 66.40625 \nQ 24.171875 66.40625 20.328125 58.90625 \nQ 16.5 51.421875 16.5 36.375 \nQ 16.5 21.390625 20.328125 13.890625 \nQ 24.171875 6.390625 31.78125 6.390625 \nQ 39.453125 6.390625 43.28125 13.890625 \nQ 47.125 21.390625 47.125 36.375 \nQ 47.125 51.421875 43.28125 58.90625 \nQ 39.453125 66.40625 31.78125 66.40625 \nz\nM 31.78125 74.21875 \nQ 44.046875 74.21875 50.515625 64.515625 \nQ 56.984375 54.828125 56.984375 36.375 \nQ 56.984375 17.96875 50.515625 8.265625 \nQ 44.046875 -1.421875 31.78125 -1.421875 \nQ 19.53125 -1.421875 13.0625 8.265625 \nQ 6.59375 17.96875 6.59375 36.375 \nQ 6.59375 54.828125 13.0625 64.515625 \nQ 19.53125 74.21875 31.78125 74.21875 \nz\n\" id=\"DejaVuSans-48\"/>\n       </defs>\n       <use xlink:href=\"#DejaVuSans-48\"/>\n      </g>\n     </g>\n    </g>\n    <g id=\"xtick_2\">\n     <g id=\"line2d_2\">\n      <g>\n       <use style=\"stroke:#000000;stroke-width:0.8;\" x=\"67.974357\" xlink:href=\"#m533ab9de7c\" y=\"228.266647\"/>\n      </g>\n     </g>\n     <g id=\"text_2\">\n      <!-- 100 -->\n      <g transform=\"translate(58.430607 242.865085)scale(0.1 -0.1)\">\n       <defs>\n        <path d=\"M 12.40625 8.296875 \nL 28.515625 8.296875 \nL 28.515625 63.921875 \nL 10.984375 60.40625 \nL 10.984375 69.390625 \nL 28.421875 72.90625 \nL 38.28125 72.90625 \nL 38.28125 8.296875 \nL 54.390625 8.296875 \nL 54.390625 0 \nL 12.40625 0 \nz\n\" id=\"DejaVuSans-49\"/>\n       </defs>\n       <use xlink:href=\"#DejaVuSans-49\"/>\n       <use x=\"63.623047\" xlink:href=\"#DejaVuSans-48\"/>\n       <use x=\"127.246094\" xlink:href=\"#DejaVuSans-48\"/>\n      </g>\n     </g>\n    </g>\n    <g id=\"xtick_3\">\n     <g id=\"line2d_3\">\n      <g>\n       <use style=\"stroke:#000000;stroke-width:0.8;\" x=\"102.488643\" xlink:href=\"#m533ab9de7c\" y=\"228.266647\"/>\n      </g>\n     </g>\n     <g id=\"text_3\">\n      <!-- 200 -->\n      <g transform=\"translate(92.944893 242.865085)scale(0.1 -0.1)\">\n       <defs>\n        <path d=\"M 19.1875 8.296875 \nL 53.609375 8.296875 \nL 53.609375 0 \nL 7.328125 0 \nL 7.328125 8.296875 \nQ 12.9375 14.109375 22.625 23.890625 \nQ 32.328125 33.6875 34.8125 36.53125 \nQ 39.546875 41.84375 41.421875 45.53125 \nQ 43.3125 49.21875 43.3125 52.78125 \nQ 43.3125 58.59375 39.234375 62.25 \nQ 35.15625 65.921875 28.609375 65.921875 \nQ 23.96875 65.921875 18.8125 64.3125 \nQ 13.671875 62.703125 7.8125 59.421875 \nL 7.8125 69.390625 \nQ 13.765625 71.78125 18.9375 73 \nQ 24.125 74.21875 28.421875 74.21875 \nQ 39.75 74.21875 46.484375 68.546875 \nQ 53.21875 62.890625 53.21875 53.421875 \nQ 53.21875 48.921875 51.53125 44.890625 \nQ 49.859375 40.875 45.40625 35.40625 \nQ 44.1875 33.984375 37.640625 27.21875 \nQ 31.109375 20.453125 19.1875 8.296875 \nz\n\" id=\"DejaVuSans-50\"/>\n       </defs>\n       <use xlink:href=\"#DejaVuSans-50\"/>\n       <use x=\"63.623047\" xlink:href=\"#DejaVuSans-48\"/>\n       <use x=\"127.246094\" xlink:href=\"#DejaVuSans-48\"/>\n      </g>\n     </g>\n    </g>\n    <g id=\"xtick_4\">\n     <g id=\"line2d_4\">\n      <g>\n       <use style=\"stroke:#000000;stroke-width:0.8;\" x=\"137.002929\" xlink:href=\"#m533ab9de7c\" y=\"228.266647\"/>\n      </g>\n     </g>\n     <g id=\"text_4\">\n      <!-- 300 -->\n      <g transform=\"translate(127.459179 242.865085)scale(0.1 -0.1)\">\n       <defs>\n        <path d=\"M 40.578125 39.3125 \nQ 47.65625 37.796875 51.625 33 \nQ 55.609375 28.21875 55.609375 21.1875 \nQ 55.609375 10.40625 48.1875 4.484375 \nQ 40.765625 -1.421875 27.09375 -1.421875 \nQ 22.515625 -1.421875 17.65625 -0.515625 \nQ 12.796875 0.390625 7.625 2.203125 \nL 7.625 11.71875 \nQ 11.71875 9.328125 16.59375 8.109375 \nQ 21.484375 6.890625 26.8125 6.890625 \nQ 36.078125 6.890625 40.9375 10.546875 \nQ 45.796875 14.203125 45.796875 21.1875 \nQ 45.796875 27.640625 41.28125 31.265625 \nQ 36.765625 34.90625 28.71875 34.90625 \nL 20.21875 34.90625 \nL 20.21875 43.015625 \nL 29.109375 43.015625 \nQ 36.375 43.015625 40.234375 45.921875 \nQ 44.09375 48.828125 44.09375 54.296875 \nQ 44.09375 59.90625 40.109375 62.90625 \nQ 36.140625 65.921875 28.71875 65.921875 \nQ 24.65625 65.921875 20.015625 65.03125 \nQ 15.375 64.15625 9.8125 62.3125 \nL 9.8125 71.09375 \nQ 15.4375 72.65625 20.34375 73.4375 \nQ 25.25 74.21875 29.59375 74.21875 \nQ 40.828125 74.21875 47.359375 69.109375 \nQ 53.90625 64.015625 53.90625 55.328125 \nQ 53.90625 49.265625 50.4375 45.09375 \nQ 46.96875 40.921875 40.578125 39.3125 \nz\n\" id=\"DejaVuSans-51\"/>\n       </defs>\n       <use xlink:href=\"#DejaVuSans-51\"/>\n       <use x=\"63.623047\" xlink:href=\"#DejaVuSans-48\"/>\n       <use x=\"127.246094\" xlink:href=\"#DejaVuSans-48\"/>\n      </g>\n     </g>\n    </g>\n    <g id=\"xtick_5\">\n     <g id=\"line2d_5\">\n      <g>\n       <use style=\"stroke:#000000;stroke-width:0.8;\" x=\"171.517214\" xlink:href=\"#m533ab9de7c\" y=\"228.266647\"/>\n      </g>\n     </g>\n     <g id=\"text_5\">\n      <!-- 400 -->\n      <g transform=\"translate(161.973464 242.865085)scale(0.1 -0.1)\">\n       <defs>\n        <path d=\"M 37.796875 64.3125 \nL 12.890625 25.390625 \nL 37.796875 25.390625 \nz\nM 35.203125 72.90625 \nL 47.609375 72.90625 \nL 47.609375 25.390625 \nL 58.015625 25.390625 \nL 58.015625 17.1875 \nL 47.609375 17.1875 \nL 47.609375 0 \nL 37.796875 0 \nL 37.796875 17.1875 \nL 4.890625 17.1875 \nL 4.890625 26.703125 \nz\n\" id=\"DejaVuSans-52\"/>\n       </defs>\n       <use xlink:href=\"#DejaVuSans-52\"/>\n       <use x=\"63.623047\" xlink:href=\"#DejaVuSans-48\"/>\n       <use x=\"127.246094\" xlink:href=\"#DejaVuSans-48\"/>\n      </g>\n     </g>\n    </g>\n    <g id=\"xtick_6\">\n     <g id=\"line2d_6\">\n      <g>\n       <use style=\"stroke:#000000;stroke-width:0.8;\" x=\"206.0315\" xlink:href=\"#m533ab9de7c\" y=\"228.266647\"/>\n      </g>\n     </g>\n     <g id=\"text_6\">\n      <!-- 500 -->\n      <g transform=\"translate(196.48775 242.865085)scale(0.1 -0.1)\">\n       <defs>\n        <path d=\"M 10.796875 72.90625 \nL 49.515625 72.90625 \nL 49.515625 64.59375 \nL 19.828125 64.59375 \nL 19.828125 46.734375 \nQ 21.96875 47.46875 24.109375 47.828125 \nQ 26.265625 48.1875 28.421875 48.1875 \nQ 40.625 48.1875 47.75 41.5 \nQ 54.890625 34.8125 54.890625 23.390625 \nQ 54.890625 11.625 47.5625 5.09375 \nQ 40.234375 -1.421875 26.90625 -1.421875 \nQ 22.3125 -1.421875 17.546875 -0.640625 \nQ 12.796875 0.140625 7.71875 1.703125 \nL 7.71875 11.625 \nQ 12.109375 9.234375 16.796875 8.0625 \nQ 21.484375 6.890625 26.703125 6.890625 \nQ 35.15625 6.890625 40.078125 11.328125 \nQ 45.015625 15.765625 45.015625 23.390625 \nQ 45.015625 31 40.078125 35.4375 \nQ 35.15625 39.890625 26.703125 39.890625 \nQ 22.75 39.890625 18.8125 39.015625 \nQ 14.890625 38.140625 10.796875 36.28125 \nz\n\" id=\"DejaVuSans-53\"/>\n       </defs>\n       <use xlink:href=\"#DejaVuSans-53\"/>\n       <use x=\"63.623047\" xlink:href=\"#DejaVuSans-48\"/>\n       <use x=\"127.246094\" xlink:href=\"#DejaVuSans-48\"/>\n      </g>\n     </g>\n    </g>\n    <g id=\"xtick_7\">\n     <g id=\"line2d_7\">\n      <g>\n       <use style=\"stroke:#000000;stroke-width:0.8;\" x=\"240.545786\" xlink:href=\"#m533ab9de7c\" y=\"228.266647\"/>\n      </g>\n     </g>\n     <g id=\"text_7\">\n      <!-- 600 -->\n      <g transform=\"translate(231.002036 242.865085)scale(0.1 -0.1)\">\n       <defs>\n        <path d=\"M 33.015625 40.375 \nQ 26.375 40.375 22.484375 35.828125 \nQ 18.609375 31.296875 18.609375 23.390625 \nQ 18.609375 15.53125 22.484375 10.953125 \nQ 26.375 6.390625 33.015625 6.390625 \nQ 39.65625 6.390625 43.53125 10.953125 \nQ 47.40625 15.53125 47.40625 23.390625 \nQ 47.40625 31.296875 43.53125 35.828125 \nQ 39.65625 40.375 33.015625 40.375 \nz\nM 52.59375 71.296875 \nL 52.59375 62.3125 \nQ 48.875 64.0625 45.09375 64.984375 \nQ 41.3125 65.921875 37.59375 65.921875 \nQ 27.828125 65.921875 22.671875 59.328125 \nQ 17.53125 52.734375 16.796875 39.40625 \nQ 19.671875 43.65625 24.015625 45.921875 \nQ 28.375 48.1875 33.59375 48.1875 \nQ 44.578125 48.1875 50.953125 41.515625 \nQ 57.328125 34.859375 57.328125 23.390625 \nQ 57.328125 12.15625 50.6875 5.359375 \nQ 44.046875 -1.421875 33.015625 -1.421875 \nQ 20.359375 -1.421875 13.671875 8.265625 \nQ 6.984375 17.96875 6.984375 36.375 \nQ 6.984375 53.65625 15.1875 63.9375 \nQ 23.390625 74.21875 37.203125 74.21875 \nQ 40.921875 74.21875 44.703125 73.484375 \nQ 48.484375 72.75 52.59375 71.296875 \nz\n\" id=\"DejaVuSans-54\"/>\n       </defs>\n       <use xlink:href=\"#DejaVuSans-54\"/>\n       <use x=\"63.623047\" xlink:href=\"#DejaVuSans-48\"/>\n       <use x=\"127.246094\" xlink:href=\"#DejaVuSans-48\"/>\n      </g>\n     </g>\n    </g>\n   </g>\n   <g id=\"matplotlib.axis_2\">\n    <g id=\"ytick_1\">\n     <g id=\"line2d_8\">\n      <defs>\n       <path d=\"M 0 0 \nL -3.5 0 \n\" id=\"m49b2037111\" style=\"stroke:#000000;stroke-width:0.8;\"/>\n      </defs>\n      <g>\n       <use style=\"stroke:#000000;stroke-width:0.8;\" x=\"33.2875\" xlink:href=\"#m49b2037111\" y=\"10.999219\"/>\n      </g>\n     </g>\n     <g id=\"text_8\">\n      <!-- 0 -->\n      <g transform=\"translate(19.925 14.798437)scale(0.1 -0.1)\">\n       <use xlink:href=\"#DejaVuSans-48\"/>\n      </g>\n     </g>\n    </g>\n    <g id=\"ytick_2\">\n     <g id=\"line2d_9\">\n      <g>\n       <use style=\"stroke:#000000;stroke-width:0.8;\" x=\"33.2875\" xlink:href=\"#m49b2037111\" y=\"45.513504\"/>\n      </g>\n     </g>\n     <g id=\"text_9\">\n      <!-- 100 -->\n      <g transform=\"translate(7.2 49.312723)scale(0.1 -0.1)\">\n       <use xlink:href=\"#DejaVuSans-49\"/>\n       <use x=\"63.623047\" xlink:href=\"#DejaVuSans-48\"/>\n       <use x=\"127.246094\" xlink:href=\"#DejaVuSans-48\"/>\n      </g>\n     </g>\n    </g>\n    <g id=\"ytick_3\">\n     <g id=\"line2d_10\">\n      <g>\n       <use style=\"stroke:#000000;stroke-width:0.8;\" x=\"33.2875\" xlink:href=\"#m49b2037111\" y=\"80.02779\"/>\n      </g>\n     </g>\n     <g id=\"text_10\">\n      <!-- 200 -->\n      <g transform=\"translate(7.2 83.827009)scale(0.1 -0.1)\">\n       <use xlink:href=\"#DejaVuSans-50\"/>\n       <use x=\"63.623047\" xlink:href=\"#DejaVuSans-48\"/>\n       <use x=\"127.246094\" xlink:href=\"#DejaVuSans-48\"/>\n      </g>\n     </g>\n    </g>\n    <g id=\"ytick_4\">\n     <g id=\"line2d_11\">\n      <g>\n       <use style=\"stroke:#000000;stroke-width:0.8;\" x=\"33.2875\" xlink:href=\"#m49b2037111\" y=\"114.542076\"/>\n      </g>\n     </g>\n     <g id=\"text_11\">\n      <!-- 300 -->\n      <g transform=\"translate(7.2 118.341295)scale(0.1 -0.1)\">\n       <use xlink:href=\"#DejaVuSans-51\"/>\n       <use x=\"63.623047\" xlink:href=\"#DejaVuSans-48\"/>\n       <use x=\"127.246094\" xlink:href=\"#DejaVuSans-48\"/>\n      </g>\n     </g>\n    </g>\n    <g id=\"ytick_5\">\n     <g id=\"line2d_12\">\n      <g>\n       <use style=\"stroke:#000000;stroke-width:0.8;\" x=\"33.2875\" xlink:href=\"#m49b2037111\" y=\"149.056362\"/>\n      </g>\n     </g>\n     <g id=\"text_12\">\n      <!-- 400 -->\n      <g transform=\"translate(7.2 152.85558)scale(0.1 -0.1)\">\n       <use xlink:href=\"#DejaVuSans-52\"/>\n       <use x=\"63.623047\" xlink:href=\"#DejaVuSans-48\"/>\n       <use x=\"127.246094\" xlink:href=\"#DejaVuSans-48\"/>\n      </g>\n     </g>\n    </g>\n    <g id=\"ytick_6\">\n     <g id=\"line2d_13\">\n      <g>\n       <use style=\"stroke:#000000;stroke-width:0.8;\" x=\"33.2875\" xlink:href=\"#m49b2037111\" y=\"183.570647\"/>\n      </g>\n     </g>\n     <g id=\"text_13\">\n      <!-- 500 -->\n      <g transform=\"translate(7.2 187.369866)scale(0.1 -0.1)\">\n       <use xlink:href=\"#DejaVuSans-53\"/>\n       <use x=\"63.623047\" xlink:href=\"#DejaVuSans-48\"/>\n       <use x=\"127.246094\" xlink:href=\"#DejaVuSans-48\"/>\n      </g>\n     </g>\n    </g>\n    <g id=\"ytick_7\">\n     <g id=\"line2d_14\">\n      <g>\n       <use style=\"stroke:#000000;stroke-width:0.8;\" x=\"33.2875\" xlink:href=\"#m49b2037111\" y=\"218.084933\"/>\n      </g>\n     </g>\n     <g id=\"text_14\">\n      <!-- 600 -->\n      <g transform=\"translate(7.2 221.884152)scale(0.1 -0.1)\">\n       <use xlink:href=\"#DejaVuSans-54\"/>\n       <use x=\"63.623047\" xlink:href=\"#DejaVuSans-48\"/>\n       <use x=\"127.246094\" xlink:href=\"#DejaVuSans-48\"/>\n      </g>\n     </g>\n    </g>\n   </g>\n   <g id=\"patch_3\">\n    <path d=\"M 33.2875 228.266647 \nL 33.2875 10.826647 \n\" style=\"fill:none;stroke:#000000;stroke-linecap:square;stroke-linejoin:miter;stroke-width:0.8;\"/>\n   </g>\n   <g id=\"patch_4\">\n    <path d=\"M 250.7275 228.266647 \nL 250.7275 10.826647 \n\" style=\"fill:none;stroke:#000000;stroke-linecap:square;stroke-linejoin:miter;stroke-width:0.8;\"/>\n   </g>\n   <g id=\"patch_5\">\n    <path d=\"M 33.2875 228.266647 \nL 250.7275 228.266647 \n\" style=\"fill:none;stroke:#000000;stroke-linecap:square;stroke-linejoin:miter;stroke-width:0.8;\"/>\n   </g>\n   <g id=\"patch_6\">\n    <path d=\"M 33.2875 10.826647 \nL 250.7275 10.826647 \n\" style=\"fill:none;stroke:#000000;stroke-linecap:square;stroke-linejoin:miter;stroke-width:0.8;\"/>\n   </g>\n  </g>\n </g>\n <defs>\n  <clipPath id=\"peb2ad72253\">\n   <rect height=\"217.44\" width=\"217.44\" x=\"33.2875\" y=\"10.826647\"/>\n  </clipPath>\n </defs>\n</svg>\n",
      "image/png": "[encoded data removed]"
     },
     "metadata": {
      "needs_background": "light"
     }
    }
   ],
   "source": [
    "plt.imshow(np.array(tgt) == 255)"
   ]
  },
  {
   "cell_type": "code",
   "execution_count": null,
   "metadata": {},
   "outputs": [],
   "source": []
  }
 ],
 "metadata": {
  "kernelspec": {
   "name": "python386jvsc74a57bd0e10d22ba302c321b21b9b695683178e0f8a286f8e94ccf14f116b4768e2ea1b3",
   "display_name": "Python 3.8.6 64-bit ('thesis': conda)"
  },
  "language_info": {
   "codemirror_mode": {
    "name": "ipython",
    "version": 3
   },
   "file_extension": ".py",
   "mimetype": "text/x-python",
   "name": "python",
   "nbconvert_exporter": "python",
   "pygments_lexer": "ipython3",
   "version": "3.8.6"
  }
 },
 "nbformat": 4,
 "nbformat_minor": 5
}